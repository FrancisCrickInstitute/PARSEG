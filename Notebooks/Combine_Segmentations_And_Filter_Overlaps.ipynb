{
 "cells": [
  {
   "cell_type": "markdown",
   "id": "d9a62160-1b64-48b3-af61-6de4c9f8cc5e",
   "metadata": {},
   "source": [
    "# Full notebook for combining labels"
   ]
  },
  {
   "cell_type": "code",
   "execution_count": 5,
   "id": "60497157-55d8-4415-bad4-375fb8a8dca2",
   "metadata": {},
   "outputs": [],
   "source": [
    "import numpy as np\n",
    "#import napari\n",
    "from skimage.io import imread, imsave\n",
    "from skimage import img_as_uint\n",
    "from timeit import default_timer as time\n",
    "from pathlib import Path\n",
    "\n",
    "from napari_segmentation_overlap_filter.functions import return_overlap_segmentation, return_non_zero_pixels_from_Image, overlapping_objects, get_object_sizes, create_overlap_df, remove_objects, combine_images, check_dask, pct_overlap_filter"
   ]
  },
  {
   "cell_type": "markdown",
   "id": "b74f12cd-d407-414c-b1a6-01b0db4488c6",
   "metadata": {},
   "source": [
    "### Utility Functions"
   ]
  },
  {
   "cell_type": "code",
   "execution_count": 6,
   "id": "c0b80341-e022-4b11-aead-dee8a469766d",
   "metadata": {},
   "outputs": [],
   "source": [
    "def read_and_convert_to_16bit(image_path):\n",
    "    # Read the image\n",
    "    image = imread(image_path)\n",
    "\n",
    "    # Check if the image is 16-bit\n",
    "    if image.dtype != 'uint16':\n",
    "        image = np.uint16(image)\n",
    "\n",
    "    return image"
   ]
  },
  {
   "cell_type": "markdown",
   "id": "3000844a-17b9-4f0d-a77f-771e447c386e",
   "metadata": {},
   "source": [
    "### Variables"
   ]
  },
  {
   "cell_type": "markdown",
   "id": "637119d0-8021-4be9-af75-6d67fd190ec0",
   "metadata": {},
   "source": [
    "If `default` is set `True` then will use default variables for paths and filename pattern matching, otherwise specify new variables"
   ]
  },
  {
   "cell_type": "code",
   "execution_count": 7,
   "id": "e6289634-419c-43e2-8246-ba89deb6bbb6",
   "metadata": {},
   "outputs": [],
   "source": [
    "default = False"
   ]
  },
  {
   "cell_type": "markdown",
   "id": "4d295c76-b79a-4384-9fb4-6c5228687c10",
   "metadata": {},
   "source": [
    "- `root_dir_path` is the directory containing all individual folders with respective Trackmate .xml files and resultant label .tif files\n",
    "- `image_dir_pattern` find all folders containing labels with this pattern name\n",
    "- `label_img_pattern` find all label images in above folder with this pattern name\n",
    "- `output_folder` path to folder you want combined labels to end up, default is same folder containing labels"
   ]
  },
  {
   "cell_type": "code",
   "execution_count": 15,
   "id": "82b3797a-37c5-4274-9f78-4bd5f64cf398",
   "metadata": {},
   "outputs": [],
   "source": [
    "if default is True:\n",
    "    root_dir_path = Path.cwd()\n",
    "    image_dir_pattern = 'c2*'\n",
    "    label_img_pattern = 'LblImg_*_pixels.tif'"
   ]
  },
  {
   "cell_type": "code",
   "execution_count": 35,
   "id": "c2449f2a-99a9-4501-9101-87193f364c0e",
   "metadata": {},
   "outputs": [],
   "source": [
    "# specify own pattern matching rules\n",
    "\n",
    "if default is False: \n",
    "    root_dir_path = Path('/nemo/stp/lm/working/shared/vd_tf/Training_Data/Images')\n",
    "    image_dir_pattern = 'C3*'\n",
    "    label_img_pattern = 'LblImg_*_pixels.tif'\n",
    "    output_dir_path = Path('/nemo/stp/lm/working/shared/vd_tf/Training_Data/Images/results')"
   ]
  },
  {
   "cell_type": "code",
   "execution_count": 36,
   "id": "302875a0-f624-47a4-8217-7653e8f4790a",
   "metadata": {},
   "outputs": [
    {
     "name": "stdout",
     "output_type": "stream",
     "text": [
      "Root directory is: /nemo/stp/lm/working/shared/vd_tf/Training_Data/Images\n",
      "Pattern for label folder names is: C3*\n",
      "Pattern for label image filenames: LblImg_*_pixels.tif\n",
      "Output results directory is: /nemo/stp/lm/working/shared/vd_tf/Training_Data/Images/results\n"
     ]
    }
   ],
   "source": [
    "print(f'Root directory is: {root_dir_path}')\n",
    "print(f'Pattern for label folder names is: {image_dir_pattern}')\n",
    "print(f'Pattern for label image filenames: {label_img_pattern}')\n",
    "\n",
    "if default is False:\n",
    "    print(f'Output results directory is: {output_dir_path}')"
   ]
  },
  {
   "cell_type": "markdown",
   "id": "ba40ba48-35be-48b4-9eaf-680e5513886f",
   "metadata": {},
   "source": [
    "### Finding folders contaning labels"
   ]
  },
  {
   "cell_type": "code",
   "execution_count": 31,
   "id": "d694e654-d97a-481a-b6de-4563979efbe9",
   "metadata": {},
   "outputs": [
    {
     "data": {
      "text/plain": [
       "[PosixPath('/nemo/stp/lm/working/daov/misc_projects/new_segmentation/C3-JTHT3-2b_170-219'),\n",
       " PosixPath('/nemo/stp/lm/working/daov/misc_projects/new_segmentation/C3-JTGX25-3b_81-130C'),\n",
       " PosixPath('/nemo/stp/lm/working/daov/misc_projects/new_segmentation/C3-JTHT3-1h_281-330'),\n",
       " PosixPath('/nemo/stp/lm/working/daov/misc_projects/new_segmentation/C3-JTGX74-1e_201-250C'),\n",
       " PosixPath('/nemo/stp/lm/working/daov/misc_projects/new_segmentation/C3-JTGX78-2h_221-270'),\n",
       " PosixPath('/nemo/stp/lm/working/daov/misc_projects/new_segmentation/C3-JTGX76-1m_25-74C'),\n",
       " PosixPath('/nemo/stp/lm/working/daov/misc_projects/new_segmentation/C3-JTHT4-3g_300-349'),\n",
       " PosixPath('/nemo/stp/lm/working/daov/misc_projects/new_segmentation/C3-JTHT1-2k_80-129'),\n",
       " PosixPath('/nemo/stp/lm/working/daov/misc_projects/new_segmentation/C3-JTHT3-3g_254-303'),\n",
       " PosixPath('/nemo/stp/lm/working/daov/misc_projects/new_segmentation/C3-JTGX76-2e_147-196')]"
      ]
     },
     "execution_count": 31,
     "metadata": {},
     "output_type": "execute_result"
    }
   ],
   "source": [
    "# Finding all Channel 2 folders with name containing 'c2'\n",
    "root_dir = root_dir_path\n",
    "image_dirs = [item for item in root_dir.glob(image_dir_pattern) if item.is_dir()]\n",
    "image_dirs"
   ]
  },
  {
   "cell_type": "markdown",
   "id": "08bed5b6-7610-4b4b-b6e9-0ed1ca24f31d",
   "metadata": {},
   "source": [
    "### Look at label images in first folder"
   ]
  },
  {
   "cell_type": "code",
   "execution_count": 32,
   "id": "232fbb54-60d7-47fe-8fd5-47dce57776b9",
   "metadata": {},
   "outputs": [
    {
     "data": {
      "text/plain": [
       "[PosixPath('/nemo/stp/lm/working/daov/misc_projects/new_segmentation/C3-JTHT3-2b_170-219/LblImg_C3-JTHT3-2b_170-219_60_pixels.tif'),\n",
       " PosixPath('/nemo/stp/lm/working/daov/misc_projects/new_segmentation/C3-JTHT3-2b_170-219/LblImg_C3-JTHT3-2b_170-219_15_pixels.tif')]"
      ]
     },
     "execution_count": 32,
     "metadata": {},
     "output_type": "execute_result"
    }
   ],
   "source": [
    "# Get only label images in folder with filename matching 'LblImg_*_pixels.tif'\n",
    "first_folder = image_dirs[0]\n",
    "labels = [item for item in first_folder.glob(label_img_pattern)]\n",
    "labels"
   ]
  },
  {
   "cell_type": "markdown",
   "id": "fe0bf99d-1413-436c-ae86-a29a235385d7",
   "metadata": {},
   "source": [
    "### List of pixel sizes to combine"
   ]
  },
  {
   "cell_type": "code",
   "execution_count": 33,
   "id": "39dc5573-278d-4f25-bc10-d79a35097beb",
   "metadata": {},
   "outputs": [],
   "source": [
    "# Provide pixel sizes you want to combine, should be in filename of label images i.e. LblImg_metadata_15_pixels.tif\n",
    "all_pixel_sizes = [[15, 60],\n",
    "                   # [15, 75],\n",
    "              ]"
   ]
  },
  {
   "cell_type": "markdown",
   "id": "b18d2964-d190-42f5-88ab-04b5447f6d65",
   "metadata": {},
   "source": [
    "### Combining labels"
   ]
  },
  {
   "cell_type": "markdown",
   "id": "6b84870c-7e9f-404b-a285-d65f56ddc44f",
   "metadata": {},
   "source": [
    "Will iterate through each folder within `root_dir` which follow pattern specified by `image_dir_pattern` and find all label images specificied by filename following `label_img_pattern` then combine labels according to `all_pixel_sizes` and output resulting combined segmentation maps to the existing labels folder or otherwise specifed by `output_dir_path`"
   ]
  },
  {
   "cell_type": "code",
   "execution_count": 34,
   "id": "abe4ade3-1561-4451-b975-de931ff01176",
   "metadata": {},
   "outputs": [
    {
     "name": "stdout",
     "output_type": "stream",
     "text": [
      "Looking in label folder C3-JTHT3-2b_170-219\n",
      "Found 15 and 60 pixel labelled images\n",
      "Finding overlapping objects for 15 and 60 pixel sizes\n",
      "create_overlap_df() executed in 0.534586 s\n",
      "Removing overlapping objects from LblImg_C3-JTHT3-2b_170-219_15_pixels\n",
      "dask found, using dask for parallelisation of removing overlapping objects\n",
      "remove_objects() executed in 0.053738 s\n",
      "Combining labels\n",
      "Saving combined labels image\n",
      "Saved combined labels as LblImg_C3-JTHT3-2b_170-219_15_60_combined.tif\n",
      "Looking in label folder C3-JTGX25-3b_81-130C\n",
      "Found 15 and 60 pixel labelled images\n"
     ]
    },
    {
     "name": "stderr",
     "output_type": "stream",
     "text": [
      "/tmp/slurm_3936014/ipykernel_67175/725739988.py:62: UserWarning: /nemo/stp/lm/working/daov/misc_projects/new_segmentation/results/LblImg_C3-JTHT3-2b_170-219_15_60_combined.tif is a low contrast image\n",
      "  imsave(final_path, Image_Combined)\n"
     ]
    },
    {
     "name": "stdout",
     "output_type": "stream",
     "text": [
      "Finding overlapping objects for 15 and 60 pixel sizes\n",
      "create_overlap_df() executed in 0.480257 s\n",
      "Removing overlapping objects from LblImg_C3-JTGX25-3b_81-130C_15_pixels\n",
      "dask found, using dask for parallelisation of removing overlapping objects\n",
      "remove_objects() executed in 0.055451 s\n",
      "Combining labels\n",
      "Saving combined labels image\n",
      "Saved combined labels as LblImg_C3-JTGX25-3b_81-130C_15_60_combined.tif\n",
      "Looking in label folder C3-JTHT3-1h_281-330\n",
      "Found 15 and 60 pixel labelled images\n"
     ]
    },
    {
     "name": "stderr",
     "output_type": "stream",
     "text": [
      "/tmp/slurm_3936014/ipykernel_67175/725739988.py:62: UserWarning: /nemo/stp/lm/working/daov/misc_projects/new_segmentation/results/LblImg_C3-JTGX25-3b_81-130C_15_60_combined.tif is a low contrast image\n",
      "  imsave(final_path, Image_Combined)\n"
     ]
    },
    {
     "name": "stdout",
     "output_type": "stream",
     "text": [
      "Finding overlapping objects for 15 and 60 pixel sizes\n",
      "create_overlap_df() executed in 0.356958 s\n",
      "Removing overlapping objects from LblImg_C3-JTHT3-1h_281-330_15_pixels\n",
      "dask found, using dask for parallelisation of removing overlapping objects\n",
      "remove_objects() executed in 0.054614 s\n",
      "Combining labels\n",
      "Saving combined labels image\n",
      "Saved combined labels as LblImg_C3-JTHT3-1h_281-330_15_60_combined.tif\n",
      "Looking in label folder C3-JTGX74-1e_201-250C\n",
      "Found 15 and 60 pixel labelled images\n"
     ]
    },
    {
     "name": "stderr",
     "output_type": "stream",
     "text": [
      "/tmp/slurm_3936014/ipykernel_67175/725739988.py:62: UserWarning: /nemo/stp/lm/working/daov/misc_projects/new_segmentation/results/LblImg_C3-JTHT3-1h_281-330_15_60_combined.tif is a low contrast image\n",
      "  imsave(final_path, Image_Combined)\n"
     ]
    },
    {
     "name": "stdout",
     "output_type": "stream",
     "text": [
      "Finding overlapping objects for 15 and 60 pixel sizes\n",
      "create_overlap_df() executed in 0.262729 s\n",
      "Removing overlapping objects from LblImg_C3-JTGX74-1e_201-250C_15_pixels\n",
      "dask found, using dask for parallelisation of removing overlapping objects\n",
      "remove_objects() executed in 0.053340 s\n",
      "Combining labels\n",
      "Saving combined labels image\n",
      "Saved combined labels as LblImg_C3-JTGX74-1e_201-250C_15_60_combined.tif\n",
      "Looking in label folder C3-JTGX78-2h_221-270\n",
      "Found 15 and 60 pixel labelled images\n",
      "Finding overlapping objects for 15 and 60 pixel sizes\n"
     ]
    },
    {
     "name": "stderr",
     "output_type": "stream",
     "text": [
      "/tmp/slurm_3936014/ipykernel_67175/725739988.py:62: UserWarning: /nemo/stp/lm/working/daov/misc_projects/new_segmentation/results/LblImg_C3-JTGX74-1e_201-250C_15_60_combined.tif is a low contrast image\n",
      "  imsave(final_path, Image_Combined)\n"
     ]
    },
    {
     "name": "stdout",
     "output_type": "stream",
     "text": [
      "create_overlap_df() executed in 0.715350 s\n",
      "Removing overlapping objects from LblImg_C3-JTGX78-2h_221-270_15_pixels\n",
      "dask found, using dask for parallelisation of removing overlapping objects\n",
      "remove_objects() executed in 0.054180 s\n",
      "Combining labels\n",
      "Saving combined labels image\n",
      "Saved combined labels as LblImg_C3-JTGX78-2h_221-270_15_60_combined.tif\n",
      "Looking in label folder C3-JTGX76-1m_25-74C\n",
      "Found 15 and 60 pixel labelled images\n",
      "Finding overlapping objects for 15 and 60 pixel sizes\n"
     ]
    },
    {
     "name": "stderr",
     "output_type": "stream",
     "text": [
      "/tmp/slurm_3936014/ipykernel_67175/725739988.py:62: UserWarning: /nemo/stp/lm/working/daov/misc_projects/new_segmentation/results/LblImg_C3-JTGX78-2h_221-270_15_60_combined.tif is a low contrast image\n",
      "  imsave(final_path, Image_Combined)\n"
     ]
    },
    {
     "name": "stdout",
     "output_type": "stream",
     "text": [
      "create_overlap_df() executed in 0.148404 s\n",
      "Removing overlapping objects from LblImg_C3-JTGX76-1m_25-74C_15_pixels\n",
      "dask found, using dask for parallelisation of removing overlapping objects\n",
      "remove_objects() executed in 0.042590 s\n",
      "Combining labels\n",
      "Saving combined labels image\n",
      "Saved combined labels as LblImg_C3-JTGX76-1m_25-74C_15_60_combined.tif\n",
      "Looking in label folder C3-JTHT4-3g_300-349\n",
      "Found 15 and 60 pixel labelled images\n"
     ]
    },
    {
     "name": "stderr",
     "output_type": "stream",
     "text": [
      "/tmp/slurm_3936014/ipykernel_67175/725739988.py:62: UserWarning: /nemo/stp/lm/working/daov/misc_projects/new_segmentation/results/LblImg_C3-JTGX76-1m_25-74C_15_60_combined.tif is a low contrast image\n",
      "  imsave(final_path, Image_Combined)\n"
     ]
    },
    {
     "name": "stdout",
     "output_type": "stream",
     "text": [
      "Finding overlapping objects for 15 and 60 pixel sizes\n",
      "create_overlap_df() executed in 0.480855 s\n",
      "Removing overlapping objects from LblImg_C3-JTHT4-3g_300-349_15_pixels\n",
      "dask found, using dask for parallelisation of removing overlapping objects\n",
      "remove_objects() executed in 0.054512 s\n",
      "Combining labels\n",
      "Saving combined labels image\n",
      "Saved combined labels as LblImg_C3-JTHT4-3g_300-349_15_60_combined.tif\n",
      "Looking in label folder C3-JTHT1-2k_80-129\n",
      "Found 15 and 60 pixel labelled images\n",
      "Finding overlapping objects for 15 and 60 pixel sizes\n"
     ]
    },
    {
     "name": "stderr",
     "output_type": "stream",
     "text": [
      "/tmp/slurm_3936014/ipykernel_67175/725739988.py:62: UserWarning: /nemo/stp/lm/working/daov/misc_projects/new_segmentation/results/LblImg_C3-JTHT4-3g_300-349_15_60_combined.tif is a low contrast image\n",
      "  imsave(final_path, Image_Combined)\n"
     ]
    },
    {
     "name": "stdout",
     "output_type": "stream",
     "text": [
      "create_overlap_df() executed in 0.426759 s\n",
      "Removing overlapping objects from LblImg_C3-JTHT1-2k_80-129_15_pixels\n",
      "dask found, using dask for parallelisation of removing overlapping objects\n",
      "remove_objects() executed in 0.053966 s\n",
      "Combining labels\n",
      "Saving combined labels image\n",
      "Saved combined labels as LblImg_C3-JTHT1-2k_80-129_15_60_combined.tif\n",
      "Looking in label folder C3-JTHT3-3g_254-303\n",
      "Found 15 and 60 pixel labelled images\n",
      "Finding overlapping objects for 15 and 60 pixel sizes\n"
     ]
    },
    {
     "name": "stderr",
     "output_type": "stream",
     "text": [
      "/tmp/slurm_3936014/ipykernel_67175/725739988.py:62: UserWarning: /nemo/stp/lm/working/daov/misc_projects/new_segmentation/results/LblImg_C3-JTHT1-2k_80-129_15_60_combined.tif is a low contrast image\n",
      "  imsave(final_path, Image_Combined)\n"
     ]
    },
    {
     "name": "stdout",
     "output_type": "stream",
     "text": [
      "create_overlap_df() executed in 0.580313 s\n",
      "Removing overlapping objects from LblImg_C3-JTHT3-3g_254-303_15_pixels\n",
      "dask found, using dask for parallelisation of removing overlapping objects\n",
      "remove_objects() executed in 0.053900 s\n",
      "Combining labels\n",
      "Saving combined labels image\n",
      "Saved combined labels as LblImg_C3-JTHT3-3g_254-303_15_60_combined.tif\n",
      "Looking in label folder C3-JTGX76-2e_147-196\n",
      "Found 15 and 60 pixel labelled images\n",
      "Finding overlapping objects for 15 and 60 pixel sizes\n"
     ]
    },
    {
     "name": "stderr",
     "output_type": "stream",
     "text": [
      "/tmp/slurm_3936014/ipykernel_67175/725739988.py:62: UserWarning: /nemo/stp/lm/working/daov/misc_projects/new_segmentation/results/LblImg_C3-JTHT3-3g_254-303_15_60_combined.tif is a low contrast image\n",
      "  imsave(final_path, Image_Combined)\n"
     ]
    },
    {
     "name": "stdout",
     "output_type": "stream",
     "text": [
      "create_overlap_df() executed in 0.462179 s\n",
      "Removing overlapping objects from LblImg_C3-JTGX76-2e_147-196_15_pixels\n",
      "dask found, using dask for parallelisation of removing overlapping objects\n",
      "remove_objects() executed in 0.054903 s\n",
      "Combining labels\n",
      "Saving combined labels image\n",
      "Saved combined labels as LblImg_C3-JTGX76-2e_147-196_15_60_combined.tif\n"
     ]
    },
    {
     "name": "stderr",
     "output_type": "stream",
     "text": [
      "/tmp/slurm_3936014/ipykernel_67175/725739988.py:62: UserWarning: /nemo/stp/lm/working/daov/misc_projects/new_segmentation/results/LblImg_C3-JTGX76-2e_147-196_15_60_combined.tif is a low contrast image\n",
      "  imsave(final_path, Image_Combined)\n"
     ]
    }
   ],
   "source": [
    "# Get images with specified pixel sizes\n",
    "for folder in image_dirs:\n",
    "\n",
    "    print(f'Looking in label folder {folder.stem}')\n",
    "    \n",
    "    for pixel_sizes in all_pixel_sizes:\n",
    "        sorted_sizes = sorted(pixel_sizes)\n",
    "        small_size = sorted_sizes[0]\n",
    "        large_size = sorted_sizes[1]\n",
    "\n",
    "        # All label images in folder \n",
    "        all_labels = [str(image) for image in folder.glob(label_img_pattern)]\n",
    "\n",
    "        # Looking for specific labels with specified pixel sizes\n",
    "        list_small_image = [i for i in all_labels if str(sorted_sizes[0])+'_pix' in i]\n",
    "        list_large_image = [i for i in all_labels if str(sorted_sizes[1])+'_pix' in i]\n",
    "\n",
    "        # If folder does not have label images of specified pixel sizes, move on to next combination\n",
    "        if len(list_small_image) < 1:\n",
    "            print(f'No labelled images of {small_size} pixel found in {folder.stem}')\n",
    "            continue\n",
    "        elif len(list_large_image) < 1:\n",
    "            print(f'No labelled images of {large_size} pixel found in {folder.stem}')\n",
    "            continue\n",
    "        else: \n",
    "            print(f'Found {small_size} and {large_size} pixel labelled images')\n",
    "        \n",
    "        Image_A_path = Path(list_small_image[0])\n",
    "        Image_B_path = Path(list_large_image[0])\n",
    "        \n",
    "        Image_A = read_and_convert_to_16bit(Image_A_path)\n",
    "        Image_B = read_and_convert_to_16bit(Image_B_path)\n",
    "    \n",
    "        # Finding overlapping objects\n",
    "        print(f'Finding overlapping objects for {small_size} and {large_size} pixel sizes')\n",
    "        df = create_overlap_df(Image_A, Image_B)\n",
    "    \n",
    "        # Filtering overlapping objects based on percent overlap\n",
    "        df_filtered = pct_overlap_filter(df, 0)\n",
    "    \n",
    "        # Removing objects in Image_A which overlap with Image_B based on percent overlap\n",
    "        dask_bool = check_dask()\n",
    "        print(f'Removing overlapping objects from {Image_A_path.stem}')\n",
    "        Image_A_overlap_removed = remove_objects(Image_A, list(df_filtered['Image_A_Object_ID']), dask_bool)\n",
    "    \n",
    "        # Combining images\n",
    "        print('Combining labels')\n",
    "        Image_Combined = combine_images(Image_A_overlap_removed, Image_B)\n",
    "    \n",
    "        # Saving combine image\n",
    "        print('Saving combined labels image')\n",
    "\n",
    "        if default:\n",
    "            combined_folderpath = folder\n",
    "        else:\n",
    "            combined_folderpath = Path(output_dir_path)\n",
    "            \n",
    "        combined_filename = 'LblImg_' + folder.parts[-1] + '_' + str(small_size) + '_' + str(large_size) + '_combined.tif'\n",
    "            \n",
    "        final_path = Path(combined_folderpath, combined_filename)\n",
    "        \n",
    "        imsave(final_path, Image_Combined)\n",
    "        print(f'Saved combined labels as {final_path.name}')"
   ]
  },
  {
   "cell_type": "code",
   "execution_count": null,
   "id": "c3b7862b-e955-412a-b06b-b7aab792eb43",
   "metadata": {},
   "outputs": [],
   "source": []
  },
  {
   "cell_type": "code",
   "execution_count": null,
   "id": "70fdcbbd-b945-484d-942e-bc58f827e40a",
   "metadata": {},
   "outputs": [],
   "source": []
  }
 ],
 "metadata": {
  "kernelspec": {
   "display_name": "Python 3 (ipykernel)",
   "language": "python",
   "name": "python3"
  },
  "language_info": {
   "codemirror_mode": {
    "name": "ipython",
    "version": 3
   },
   "file_extension": ".py",
   "mimetype": "text/x-python",
   "name": "python",
   "nbconvert_exporter": "python",
   "pygments_lexer": "ipython3",
   "version": "3.9.19"
  }
 },
 "nbformat": 4,
 "nbformat_minor": 5
}
