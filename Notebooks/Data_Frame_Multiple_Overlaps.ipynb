{
 "cells": [
  {
   "cell_type": "markdown",
   "id": "158078ab",
   "metadata": {},
   "source": [
    "## This is a new notebook, 10/31/2023 at 3:30pm. \n",
    "The previous code didn't work well if there was more than one small object overlapping on a big object. So we're going to try to fix that.\n",
    "\n",
    "Todo:\n",
    "1.) Restructure code to work with multipe overlaps on the same object\n",
    "2.) Clean up the code\n",
    "3.) Dask the code"
   ]
  },
  {
   "cell_type": "code",
   "execution_count": 1,
   "id": "b4673a8e",
   "metadata": {
    "tags": []
   },
   "outputs": [],
   "source": [
    "import numpy as np\n",
    "from skimage.segmentation import clear_border\n",
    "from skimage.measure import label, regionprops\n",
    "from skimage.morphology import closing, square\n",
    "from skimage.draw import ellipsoid\n",
    "from skimage.draw import disk\n",
    "from scipy import ndimage\n",
    "#import napari\n",
    "import matplotlib.pyplot as plt\n",
    "#from functions import sphere_maker, return_overlap_segmentation, return_overlapping_pixels, overlapping_objects_with_size, remove_objects, get_overlap, get_object_size\n",
    "import pandas as pd\n",
    "import time\n",
    "from scipy.sparse import coo_array\n",
    "import sys"
   ]
  },
  {
   "cell_type": "code",
   "execution_count": 2,
   "id": "ffd6dc4e",
   "metadata": {
    "tags": []
   },
   "outputs": [],
   "source": [
    "def sphere_maker(coords, Img, Label):\n",
    "    y_I = coords[0]\n",
    "    x_I = coords[1]\n",
    "    z_I = coords[2]\n",
    "    r = coords[3]\n",
    "    #x_I, y_I, z_I are the center of the sphere\n",
    "    #r is the radius\n",
    "    \n",
    "    z_Top = z_I+r # top most plane there will be a circle in\n",
    "    z_Bottom = z_I-r # bottom most plane there will be a circle in\n",
    "    \n",
    "    for z in range(z_Bottom, z_Top+1):\n",
    "        x = np.sqrt((r**2 - (z-z_I)**2)) # x is the new radius for this slice. \n",
    "        rr, cc = disk((y_I, x_I), x)\n",
    "        Img[rr,cc,z]=Label\n",
    "        \n",
    "    return Img\n"
   ]
  },
  {
   "cell_type": "code",
   "execution_count": 3,
   "id": "da993ff5",
   "metadata": {
    "tags": []
   },
   "outputs": [
    {
     "name": "stderr",
     "output_type": "stream",
     "text": [
      "/camp/home/fallest/.local/lib/python3.9/site-packages/skimage/draw/draw.py:41: RuntimeWarning: invalid value encountered in divide\n",
      "  distances = ((r * cos_alpha + c * sin_alpha) / r_rad) ** 2 \\\n",
      "/camp/home/fallest/.local/lib/python3.9/site-packages/skimage/draw/draw.py:42: RuntimeWarning: invalid value encountered in divide\n",
      "  + ((r * sin_alpha - c * cos_alpha) / c_rad) ** 2\n"
     ]
    },
    {
     "data": {
      "text/plain": [
       "<matplotlib.image.AxesImage at 0x7fd53480ddf0>"
      ]
     },
     "execution_count": 3,
     "metadata": {},
     "output_type": "execute_result"
    },
    {
     "data": {
      "image/png": "[encoded data removed]",
      "text/plain": [
       "<Figure size 640x480 with 1 Axes>"
      ]
     },
     "metadata": {},
     "output_type": "display_data"
    }
   ],
   "source": [
    "x = 128 #columns\n",
    "y = 128 #rows\n",
    "z = 20 #slices\n",
    "\n",
    "dims = (y,x,z) #make an argument for the dimensions\n",
    "Img_A = np.zeros(dims) # initialize Image A as zeros\n",
    "Img_B = np.zeros(dims) # initialize Image B as zeros\n",
    "Img_compare = np.zeros(dims)\n",
    "\n",
    "####\n",
    "# Set up the coordinates and radius of the centers of the 'nuclei'\n",
    "# nuclei in A: coords = x, y, z centers, radius (x,y,z,r)\n",
    "nuc_A_1 = (42, 42, 6, 6) # overlapping label with B1\n",
    "nuc_A_2 = (100,100, 4, 3)\n",
    "nuc_A_3 = (75, 75, 6, 4) # close to B3\n",
    "nuc_A_4 = (23, 23, 4, 3)\n",
    "nuc_A_5 = (21, 21, 4, 3)\n",
    "\n",
    "# nuclei in B: coords = x, y, z centers, radius (x,y,z,r)\n",
    "nuc_B_1 = (44, 44, 6, 5) # overlapping label with A1\n",
    "nuc_B_2 = (25,25, 4, 3)\n",
    "nuc_B_3 = (85, 85, 6, 4) # close to A3\n",
    "\n",
    "Img_A = sphere_maker(nuc_A_1, Img_A, 1)\n",
    "Img_A = sphere_maker(nuc_A_2, Img_A, 2)\n",
    "Img_A = sphere_maker(nuc_A_3, Img_A, 3)\n",
    "Img_A = sphere_maker(nuc_A_4, Img_A, 7)\n",
    "Img_A = sphere_maker(nuc_A_5, Img_A, 8)\n",
    "\n",
    "Img_B = sphere_maker(nuc_B_1, Img_B, 4)\n",
    "Img_B = sphere_maker(nuc_B_2, Img_B, 5)\n",
    "Img_B = sphere_maker(nuc_B_3, Img_B, 6)\n",
    "\n",
    "plt.imshow(Img_A[:,:,5])\n",
    "plt.imshow(Img_B[:,:,5])"
   ]
  },
  {
   "cell_type": "code",
   "execution_count": 4,
   "id": "eda43b56",
   "metadata": {
    "tags": []
   },
   "outputs": [],
   "source": [
    "def return_overlap_segmentation(Img_A, Img_B):\n",
    "    #function to return the overlapping segmentation in two images\n",
    "    Img_temp = np.where([Img_B>0],Img_A, Img_B)\n",
    "    return Img_temp[0,:,:,:]\n",
    "\n",
    "def return_overlapping_pixels(Img_A, Img_B):\n",
    "    #function to return the overlapping pixels from both images\n",
    "    non_zero_A = np.asarray(np.nonzero(Img_A))\n",
    "    non_zero_B = np.asarray(np.nonzero(Img_B))\n",
    "    \n",
    "    non_zero_A_list = [non_zero_A[:,n] for n in range(0,non_zero_A.shape[1])]\n",
    "    non_zero_B_list = [non_zero_B[:,n] for n in range(0,non_zero_B.shape[1])]\n",
    "    \n",
    "    non_zero_A_list = [A_obj.tolist() for A_obj in non_zero_A_list]\n",
    "    non_zero_B_list = [B_obj.tolist() for B_obj in non_zero_B_list]    \n",
    "    \n",
    "    A_set = set(tuple(row) for row in non_zero_A_list)\n",
    "    B_set = set(tuple(row) for row in non_zero_B_list)\n",
    "    \n",
    "    overlap_set = A_set & B_set\n",
    "    overlap = list(overlap_set)\n",
    "    \n",
    "    return overlap\n",
    "\n",
    "\n",
    "def return_non_zero_pixels_from_Image(Img):\n",
    "    #return the coordinates of non zero pixels in an image (i.e. where there are segmentations)\n",
    "    coords = np.nonzero(Img)\n",
    "    overlap_pixels=[]\n",
    "    for n in range(0, len(coords[0])):\n",
    "        X = coords[0][n]\n",
    "        Y = coords[1][n]\n",
    "        Z = coords[2][n]\n",
    "        overlap_pixels.append([X,Y,Z])\n",
    "\n",
    "    return overlap_pixels\n",
    "\n",
    "def overlapping_objects(Img_A, Img_B):\n",
    "    #return the object numbers of the overlapping objects\n",
    "    Img_compare = return_overlap_segmentation(Img_A, Img_B)\n",
    "    overlap_pixels = return_non_zero_pixels_from_Image(Img_compare)\n",
    "    \n",
    "    A_objects = []\n",
    "    B_objects = []\n",
    "    for n in range(0,len(overlap_pixels)):\n",
    "        X = overlap_pixels[n][0]\n",
    "        Y = overlap_pixels[n][1]\n",
    "        Z = overlap_pixels[n][2]\n",
    "        \n",
    "        A_objects.append(Img_A[X,Y,Z])\n",
    "        B_objects.append(Img_B[X,Y,Z])\n",
    "    \n",
    "    objs = list(set(zip(A_objects, B_objects)))\n",
    "    A_objects_set = [ls[0] for ls in objs]\n",
    "    B_objects_set = [ls[1] for ls in objs]\n",
    "    \n",
    "    return A_objects_set, B_objects_set\n",
    "    \n",
    "def remove_objects(Img, objects):\n",
    "    #remove segmentation objects from an image\n",
    "    for obj in objects:\n",
    "        Img[Img==obj]=0\n",
    "    \n",
    "    return Img\n",
    "\n",
    "def get_object_size(Img, obj):\n",
    "    obj_size = np.count_nonzero(Img==obj)\n",
    "    return obj_size\n",
    "    "
   ]
  },
  {
   "cell_type": "code",
   "execution_count": 5,
   "id": "ed4ffe85",
   "metadata": {
    "tags": []
   },
   "outputs": [],
   "source": [
    "[A_Objs,B_Objs]=overlapping_objects(Img_A, Img_B)"
   ]
  },
  {
   "cell_type": "code",
   "execution_count": 7,
   "id": "a87fd7d6-d164-4020-afff-1a64fe7542ba",
   "metadata": {
    "tags": []
   },
   "outputs": [
    {
     "data": {
      "text/plain": [
       "<matplotlib.image.AxesImage at 0x7fd4daef2a60>"
      ]
     },
     "execution_count": 7,
     "metadata": {},
     "output_type": "execute_result"
    },
    {
     "data": {
      "image/png": "[encoded data removed]",
      "text/plain": [
       "<Figure size 640x480 with 1 Axes>"
      ]
     },
     "metadata": {},
     "output_type": "display_data"
    }
   ],
   "source": [
    "plt.imshow(Img_A[:,:,5])"
   ]
  },
  {
   "cell_type": "code",
   "execution_count": 10,
   "id": "6ed1d8cb-919f-43d2-8192-41390f0dd3f9",
   "metadata": {
    "tags": []
   },
   "outputs": [],
   "source": [
    "Img_Out = Img_A==3"
   ]
  },
  {
   "cell_type": "code",
   "execution_count": 11,
   "id": "a7f472c7-ecee-4b02-a2d4-34f5cc2da3ac",
   "metadata": {
    "tags": []
   },
   "outputs": [
    {
     "data": {
      "text/plain": [
       "<matplotlib.image.AxesImage at 0x7fd4dae63340>"
      ]
     },
     "execution_count": 11,
     "metadata": {},
     "output_type": "execute_result"
    },
    {
     "data": {
      "image/png": "[encoded data removed]",
      "text/plain": [
       "<Figure size 640x480 with 1 Axes>"
      ]
     },
     "metadata": {},
     "output_type": "display_data"
    }
   ],
   "source": [
    "plt.imshow(Img_Out[:,:,5])"
   ]
  },
  {
   "cell_type": "code",
   "execution_count": 12,
   "id": "b517f986-2149-4400-a7ba-f850bdab8d16",
   "metadata": {
    "tags": []
   },
   "outputs": [
    {
     "data": {
      "text/plain": [
       "True"
      ]
     },
     "execution_count": 12,
     "metadata": {},
     "output_type": "execute_result"
    }
   ],
   "source": [
    "np.max(Img_Out)"
   ]
  },
  {
   "cell_type": "code",
   "execution_count": 10,
   "id": "d3fd9ae4",
   "metadata": {},
   "outputs": [],
   "source": [
    "assert(len(A_Objs)==len(B_Objs))"
   ]
  },
  {
   "cell_type": "code",
   "execution_count": 11,
   "id": "57bf7387",
   "metadata": {},
   "outputs": [
    {
     "data": {
      "text/plain": [
       "[0, 1, 2]"
      ]
     },
     "execution_count": 11,
     "metadata": {},
     "output_type": "execute_result"
    }
   ],
   "source": [
    "Overlap_Index = [n for n in range(0, len(A_Objs))]\n",
    "Overlap_Index"
   ]
  },
  {
   "cell_type": "code",
   "execution_count": 12,
   "id": "a0eb411a",
   "metadata": {},
   "outputs": [],
   "source": [
    "def overlapping_objects_with_size(A_Objects, B_Objects, Img_A, Img_B):\n",
    "    #return the object numbers of the overlapping objects\n",
    "    Img_compare = return_overlap_segmentation(Img_A, Img_B)\n",
    "    overlap_pixels = return_non_zero_pixels_from_Image(Img_compare)\n",
    "    \n",
    "    A_objects = []\n",
    "    B_objects = []\n",
    "    for coord in overlap_pixels:\n",
    "        X = coord[0]\n",
    "        Y = coord[1]\n",
    "        Z = coord[2]\n",
    "        \n",
    "        A_objects.append(Img_A[X,Y,Z]) #these lines should keep the order retained of the objects\n",
    "        B_objects.append(Img_B[X,Y,Z])\n",
    "        \n",
    "    objects_dict_A = {} ##dicts are unordered, so need to go off of a list\n",
    "    objects_dict_B = {} \n",
    "    for obj in A_objects:\n",
    "        obj_size = np.count_nonzero(A_objects==obj)\n",
    "        objects_dict_A[obj]=obj_size\n",
    "    \n",
    "    for obj in B_objects:\n",
    "        obj_size = np.count_nonzero(B_objects==obj)\n",
    "        objects_dict_B[obj]=obj_size\n"
   ]
  },
  {
   "cell_type": "code",
   "execution_count": 13,
   "id": "66783fec",
   "metadata": {},
   "outputs": [],
   "source": [
    "def overlapping_objects(Img_A, Img_B):\n",
    "    #return the object numbers of the overlapping objects\n",
    "    Img_compare = return_overlap_segmentation(Img_A, Img_B)\n",
    "    overlap_pixels = return_non_zero_pixels_from_Image(Img_compare)\n",
    "    \n",
    "    A_objects = []\n",
    "    B_objects = []\n",
    "    for n in range(0,len(overlap_pixels)):\n",
    "        X = overlap_pixels[n][0]\n",
    "        Y = overlap_pixels[n][1]\n",
    "        Z = overlap_pixels[n][2]\n",
    "        \n",
    "        A_objects.append(Img_A[X,Y,Z])\n",
    "        B_objects.append(Img_B[X,Y,Z])\n",
    "    \n",
    "    objs = list((zip(A_objects, B_objects)))\n",
    "    \n",
    "    return objs"
   ]
  },
  {
   "cell_type": "code",
   "execution_count": 14,
   "id": "3096e312",
   "metadata": {},
   "outputs": [],
   "source": [
    "objs = overlapping_objects(Img_A, Img_B)"
   ]
  },
  {
   "cell_type": "code",
   "execution_count": 15,
   "id": "202e0102",
   "metadata": {},
   "outputs": [],
   "source": [
    "from collections import Counter\n",
    "test = Counter(objs)\n",
    "#can use this dictionary to get the overlap sizes"
   ]
  },
  {
   "cell_type": "code",
   "execution_count": 16,
   "id": "e0bb67ef",
   "metadata": {},
   "outputs": [
    {
     "data": {
      "text/plain": [
       "dict_keys([(8.0, 5.0), (7.0, 5.0), (1.0, 4.0)])"
      ]
     },
     "execution_count": 16,
     "metadata": {},
     "output_type": "execute_result"
    }
   ],
   "source": [
    "test.keys()"
   ]
  },
  {
   "cell_type": "code",
   "execution_count": 17,
   "id": "fdca9855",
   "metadata": {},
   "outputs": [
    {
     "data": {
      "text/plain": [
       "dict_keys([(8.0, 5.0), (7.0, 5.0), (1.0, 4.0)])"
      ]
     },
     "execution_count": 17,
     "metadata": {},
     "output_type": "execute_result"
    }
   ],
   "source": [
    "keys = test.keys()\n",
    "keys\n"
   ]
  },
  {
   "cell_type": "code",
   "execution_count": 18,
   "id": "6e049c76",
   "metadata": {},
   "outputs": [],
   "source": [
    "A_objects = [ls[0] for ls in keys]"
   ]
  },
  {
   "cell_type": "code",
   "execution_count": 19,
   "id": "c152afc1",
   "metadata": {},
   "outputs": [
    {
     "data": {
      "text/plain": [
       "dict_values([3, 38, 396])"
      ]
     },
     "execution_count": 19,
     "metadata": {},
     "output_type": "execute_result"
    }
   ],
   "source": [
    "test.values()"
   ]
  },
  {
   "cell_type": "code",
   "execution_count": 20,
   "id": "3c840657",
   "metadata": {},
   "outputs": [],
   "source": [
    "objects_zip = overlapping_objects(Img_A, Img_B)"
   ]
  },
  {
   "cell_type": "code",
   "execution_count": 21,
   "id": "f1aa7ddf",
   "metadata": {},
   "outputs": [],
   "source": [
    "objects_overlap_count = Counter(objects_zip)"
   ]
  },
  {
   "cell_type": "code",
   "execution_count": 22,
   "id": "164839fb",
   "metadata": {},
   "outputs": [],
   "source": [
    "def create_overlap_df(Img_A, Img_B):\n",
    "    objects_zip = overlapping_objects(Img_A, Img_B) #this is ordered so the objects will correspond\n",
    "    objects_overlap_count = Counter(objects_zip)\n",
    "    objects_set = objects_overlap_count.keys()\n",
    "    objects_overlap_size = objects_overlap_count.values()\n",
    "    A_objects = [ls[0] for ls in objects_set]\n",
    "    B_objects = [ls[1] for ls in objects_set]\n",
    "    A_overlap_size = list(objects_overlap_size)\n",
    "    B_overlap_size = list(objects_overlap_size)\n",
    "    \n",
    "    Obj_A_size=[] #get the object sizes of the full object\n",
    "    for obj in A_objects:\n",
    "        Obj_A_size.append(get_object_size(Img_A, obj))\n",
    "    print(\"Got Img_A object sizes\")\n",
    "    \n",
    "    Obj_B_size=[]\n",
    "    for obj in B_objects:\n",
    "        Obj_B_size.append(get_object_size(Img_B, obj))\n",
    "    print(\"Got Img_B object sizes\")\n",
    "\n",
    "  \n",
    "    \n",
    "    \n",
    "    Overlap_Index = [n for n in range(0, len(A_objects))] #create overlap index\n",
    "    \n",
    "    data = {'Overlap_Index': Overlap_Index, \n",
    "       'Image_A_Object_ID': A_objects,\n",
    "       'Image_B_Object_ID': B_objects,\n",
    "       'Image_A_Object_Size': Obj_A_size,\n",
    "       'Image_B_Object_Size': Obj_B_size,\n",
    "       'Image_A_Overlap_Size': A_overlap_size,\n",
    "       'Image_B_Overlap_Size': B_overlap_size}\n",
    "    \n",
    "    print(\"Built the data dict\")\n",
    "    \n",
    "    \n",
    "    df = pd.DataFrame(data)\n",
    "    assert(list(df['Image_A_Overlap_Size'])==list(df['Image_B_Overlap_Size'])) ## these should be identical\n",
    "    df['Image_A_Overlap_PCT'] = df['Image_A_Overlap_Size']/df['Image_A_Object_Size']\n",
    "    df['Image_B_Overlap_PCT'] = df['Image_B_Overlap_Size']/df['Image_B_Object_Size']\n",
    "    \n",
    "    #print(\"Done\")\n",
    "    return df\n",
    "    "
   ]
  },
  {
   "cell_type": "code",
   "execution_count": 23,
   "id": "1a192d01",
   "metadata": {},
   "outputs": [
    {
     "name": "stdout",
     "output_type": "stream",
     "text": [
      "Got Img_A object sizes\n",
      "Got Img_B object sizes\n",
      "Built the data dict\n"
     ]
    }
   ],
   "source": [
    "data = create_overlap_df(Img_A, Img_B)"
   ]
  },
  {
   "cell_type": "code",
   "execution_count": 24,
   "id": "980ed7ca",
   "metadata": {},
   "outputs": [
    {
     "data": {
      "text/html": [
       "<div>\n",
       "<style scoped>\n",
       "    .dataframe tbody tr th:only-of-type {\n",
       "        vertical-align: middle;\n",
       "    }\n",
       "\n",
       "    .dataframe tbody tr th {\n",
       "        vertical-align: top;\n",
       "    }\n",
       "\n",
       "    .dataframe thead th {\n",
       "        text-align: right;\n",
       "    }\n",
       "</style>\n",
       "<table border=\"1\" class=\"dataframe\">\n",
       "  <thead>\n",
       "    <tr style=\"text-align: right;\">\n",
       "      <th></th>\n",
       "      <th>Overlap_Index</th>\n",
       "      <th>Image_A_Object_ID</th>\n",
       "      <th>Image_B_Object_ID</th>\n",
       "      <th>Image_A_Object_Size</th>\n",
       "      <th>Image_B_Object_Size</th>\n",
       "      <th>Image_A_Overlap_Size</th>\n",
       "      <th>Image_B_Overlap_Size</th>\n",
       "      <th>Image_A_Overlap_PCT</th>\n",
       "      <th>Image_B_Overlap_PCT</th>\n",
       "    </tr>\n",
       "  </thead>\n",
       "  <tbody>\n",
       "    <tr>\n",
       "      <th>0</th>\n",
       "      <td>0</td>\n",
       "      <td>8.0</td>\n",
       "      <td>5.0</td>\n",
       "      <td>117</td>\n",
       "      <td>117</td>\n",
       "      <td>3</td>\n",
       "      <td>3</td>\n",
       "      <td>0.025641</td>\n",
       "      <td>0.025641</td>\n",
       "    </tr>\n",
       "    <tr>\n",
       "      <th>1</th>\n",
       "      <td>1</td>\n",
       "      <td>7.0</td>\n",
       "      <td>5.0</td>\n",
       "      <td>76</td>\n",
       "      <td>117</td>\n",
       "      <td>38</td>\n",
       "      <td>38</td>\n",
       "      <td>0.500000</td>\n",
       "      <td>0.324786</td>\n",
       "    </tr>\n",
       "    <tr>\n",
       "      <th>2</th>\n",
       "      <td>2</td>\n",
       "      <td>1.0</td>\n",
       "      <td>4.0</td>\n",
       "      <td>919</td>\n",
       "      <td>485</td>\n",
       "      <td>396</td>\n",
       "      <td>396</td>\n",
       "      <td>0.430903</td>\n",
       "      <td>0.816495</td>\n",
       "    </tr>\n",
       "  </tbody>\n",
       "</table>\n",
       "</div>"
      ],
      "text/plain": [
       "   Overlap_Index  Image_A_Object_ID  Image_B_Object_ID  Image_A_Object_Size  \\\n",
       "0              0                8.0                5.0                  117   \n",
       "1              1                7.0                5.0                   76   \n",
       "2              2                1.0                4.0                  919   \n",
       "\n",
       "   Image_B_Object_Size  Image_A_Overlap_Size  Image_B_Overlap_Size  \\\n",
       "0                  117                     3                     3   \n",
       "1                  117                    38                    38   \n",
       "2                  485                   396                   396   \n",
       "\n",
       "   Image_A_Overlap_PCT  Image_B_Overlap_PCT  \n",
       "0             0.025641             0.025641  \n",
       "1             0.500000             0.324786  \n",
       "2             0.430903             0.816495  "
      ]
     },
     "execution_count": 24,
     "metadata": {},
     "output_type": "execute_result"
    }
   ],
   "source": [
    "data"
   ]
  },
  {
   "cell_type": "code",
   "execution_count": 46,
   "id": "6b850692",
   "metadata": {},
   "outputs": [],
   "source": [
    "non_zero_A = (np.nonzero(Img_A))"
   ]
  },
  {
   "cell_type": "code",
   "execution_count": 47,
   "id": "8d0da817",
   "metadata": {},
   "outputs": [
    {
     "data": {
      "text/plain": [
       "8.0"
      ]
     },
     "execution_count": 47,
     "metadata": {},
     "output_type": "execute_result"
    }
   ],
   "source": [
    "obj = A_objects[0]\n",
    "obj"
   ]
  },
  {
   "cell_type": "code",
   "execution_count": 48,
   "id": "fe7c37ec",
   "metadata": {},
   "outputs": [
    {
     "data": {
      "text/plain": [
       "117"
      ]
     },
     "execution_count": 48,
     "metadata": {},
     "output_type": "execute_result"
    }
   ],
   "source": [
    "obj_size_new = np.sum(Img_A == obj)\n",
    "obj_size_new"
   ]
  },
  {
   "cell_type": "code",
   "execution_count": 49,
   "id": "403580e5",
   "metadata": {},
   "outputs": [
    {
     "data": {
      "text/plain": [
       "138"
      ]
     },
     "execution_count": 49,
     "metadata": {},
     "output_type": "execute_result"
    }
   ],
   "source": []
  },
  {
   "cell_type": "code",
   "execution_count": 56,
   "id": "fd2fa668",
   "metadata": {},
   "outputs": [],
   "source": [
    "Img_A_flat = Img_A.flatten()"
   ]
  },
  {
   "cell_type": "code",
   "execution_count": 59,
   "id": "941a33af",
   "metadata": {},
   "outputs": [
    {
     "data": {
      "text/plain": [
       "array([8., 8., 8., ..., 2., 2., 2.])"
      ]
     },
     "execution_count": 59,
     "metadata": {},
     "output_type": "execute_result"
    }
   ],
   "source": [
    "Img_A_flat[Img_A_flat != 0]"
   ]
  },
  {
   "cell_type": "code",
   "execution_count": 60,
   "id": "0a855557",
   "metadata": {},
   "outputs": [
    {
     "data": {
      "text/plain": [
       "117"
      ]
     },
     "execution_count": 60,
     "metadata": {},
     "output_type": "execute_result"
    }
   ],
   "source": [
    "obj_size = np.sum(Img_A_flat == obj)\n",
    "obj_size"
   ]
  },
  {
   "cell_type": "code",
   "execution_count": 26,
   "id": "d4ebf684",
   "metadata": {},
   "outputs": [],
   "source": [
    "b = [0]*len(a)"
   ]
  },
  {
   "cell_type": "code",
   "execution_count": 31,
   "id": "d51125a9",
   "metadata": {},
   "outputs": [
    {
     "name": "stdout",
     "output_type": "stream",
     "text": [
      "Got Img_A object sizes\n",
      "This took:  0.0009477138519287109  seconds\n"
     ]
    }
   ],
   "source": [
    "objects_zip = overlapping_objects(Img_A, Img_B) #this is ordered so the objects will correspond\n",
    "objects_overlap_count = Counter(objects_zip)\n",
    "objects_set = objects_overlap_count.keys()\n",
    "objects_overlap_size = objects_overlap_count.values()\n",
    "A_objects = [ls[0] for ls in objects_set]\n",
    "B_objects = [ls[1] for ls in objects_set]\n",
    "A_overlap_size = list(objects_overlap_size)\n",
    "B_overlap_size = list(objects_overlap_size)\n",
    "time_0 = time.time()\n",
    "Obj_A_size=[] #get the object sizes of the full object\n",
    "for obj in A_objects:\n",
    "    Obj_A_size.append(get_object_size(Img_A, obj))\n",
    "time_1 = time.time()\n",
    "print(\"Got Img_A object sizes\")\n",
    "print(\"This took: \", time_1-time_0, \" seconds\")"
   ]
  },
  {
   "cell_type": "code",
   "execution_count": 32,
   "id": "4e1880d6",
   "metadata": {},
   "outputs": [
    {
     "name": "stdout",
     "output_type": "stream",
     "text": [
      "Got Img_A object sizes\n",
      "This took:  0.0010323524475097656  seconds\n"
     ]
    }
   ],
   "source": [
    "objects_zip = overlapping_objects(Img_A, Img_B) #this is ordered so the objects will correspond\n",
    "objects_overlap_count = Counter(objects_zip)\n",
    "objects_set = objects_overlap_count.keys()\n",
    "objects_overlap_size = objects_overlap_count.values()\n",
    "A_objects = [ls[0] for ls in objects_set]\n",
    "B_objects = [ls[1] for ls in objects_set]\n",
    "A_overlap_size = list(objects_overlap_size)\n",
    "B_overlap_size = list(objects_overlap_size)\n",
    "time_0 = time.time()\n",
    "Obj_A_size=[0]*len(A_objects) #get the object sizes of the full object\n",
    "n=0\n",
    "for obj in A_objects:\n",
    "    Obj_A_size[n] = (get_object_size(Img_A, obj))\n",
    "    n=n+1\n",
    "time_1 = time.time()\n",
    "print(\"Got Img_A object sizes\")\n",
    "print(\"This took: \", time_1-time_0, \" seconds\")"
   ]
  },
  {
   "cell_type": "code",
   "execution_count": 33,
   "id": "8d592442",
   "metadata": {},
   "outputs": [
    {
     "data": {
      "text/plain": [
       "[117, 76, 919]"
      ]
     },
     "execution_count": 33,
     "metadata": {},
     "output_type": "execute_result"
    }
   ],
   "source": []
  },
  {
   "cell_type": "code",
   "execution_count": null,
   "id": "b3d8534b",
   "metadata": {},
   "outputs": [],
   "source": [
    "## I need to do the object sizes so it iterates thorugh the object ID list to do them, so that there are multiple values"
   ]
  }
 ],
 "metadata": {
  "kernelspec": {
   "display_name": "Local napari-june23",
   "language": "python3",
   "name": "rik_local_naparijune23"
  },
  "language_info": {
   "codemirror_mode": {
    "name": "ipython",
    "version": 3
   },
   "file_extension": ".py",
   "mimetype": "text/x-python",
   "name": "python",
   "nbconvert_exporter": "python",
   "pygments_lexer": "ipython3",
   "version": "3.9.16"
  }
 },
 "nbformat": 4,
 "nbformat_minor": 5
}
