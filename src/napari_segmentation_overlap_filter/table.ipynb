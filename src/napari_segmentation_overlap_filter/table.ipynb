{
 "cells": [
  {
   "cell_type": "code",
   "execution_count": 1,
   "metadata": {
    "collapsed": false,
    "jupyter": {
     "outputs_hidden": false
    },
    "tags": []
   },
   "outputs": [],
   "source": [
    "%matplotlib inline"
   ]
  },
  {
   "cell_type": "markdown",
   "metadata": {},
   "source": [
    "# Table widget\n",
    "\n",
    "Demonstrating a few ways to input tables.\n"
   ]
  },
  {
   "cell_type": "code",
   "execution_count": null,
   "metadata": {
    "collapsed": false,
    "jupyter": {
     "outputs_hidden": false
    },
    "tags": []
   },
   "outputs": [],
   "source": [
    "import numpy as np\n",
    "\n",
    "from magicgui.widgets import Table\n",
    "\n",
    "# all of these are valid data types\n",
    "dict_of_lists = {\"col_1\": [1, 4], \"col_2\": [2, 5], \"col_3\": [3, 6]}\n",
    "# column-dict-of-row-dicts\n",
    "dict_of_dict = {\n",
    "    \"col_1\": {\"r1\": 1, \"r2\": 4},\n",
    "    \"col_2\": {\"r1\": 2, \"r2\": 5},\n",
    "    \"col_3\": {\"r1\": 3, \"r2\": 6},\n",
    "}\n",
    "# list-of-lists\n",
    "list_of_list = [[1, 2, 3], [4, 5, 6]]\n",
    "# Records: List-of-column-dict\n",
    "list_of_records = [\n",
    "    {\"col_1\": 1, \"col_2\": 2, \"col_3\": 3},\n",
    "    {\"col_1\": 4, \"col_2\": 5, \"col_3\": 6},\n",
    "]\n",
    "\n",
    "# 3-tuple of data, index, column\n",
    "data_index_column_tuple = (([[1, 2, 3], [4, 5, 6]], (\"r1\", \"r2\"), (\"c1\", \"c2\", \"c3\")),)\n",
    "# split-dict\n",
    "split_dict = {\n",
    "    \"data\": [[1, 2, 3], [4, 5, 6]],\n",
    "    \"index\": (\"r1\", \"r2\"),\n",
    "    \"columns\": (\"c1\", \"c2\", \"c3\"),\n",
    "}\n",
    "\n",
    "table = Table(value=dict_of_lists)\n",
    "\n",
    "# it behaves like a dict:\n",
    "table[\"new_col\"] = [5, 5]\n",
    "assert table.pop(\"new_col\") == [5, 5]\n",
    "# keys and items have both regular (column) and \"row\" modes\n",
    "col_item_view = table.items()  # iterate col_header/column\n",
    "row_item_view = table.items(\"row\")  # iterate row_header/row\n",
    "\n",
    "# we can just call dict() to get back our dict of lists\n",
    "assert dict(table) == dict_of_lists\n",
    "# or use one of many other exports in `to_dict`\n",
    "assert table.to_dict(\"records\") == list_of_records\n",
    "\n",
    "# change headers\n",
    "table.row_headers = (\"row1\", \"row2\")\n",
    "table.column_headers = (\"a\", \"b\", \"c\")\n",
    "\n",
    "# setting value clears and resets the table:\n",
    "table.value = np.arange(18).reshape(6, 3)\n",
    "# we can get/set/delete the 2D data table using numpy-style indexing:\n",
    "# get every other row\n",
    "assert table.data[::2] == [[0, 1, 2], [6, 7, 8], [12, 13, 14]]\n",
    "# set every other column in the 3rd row\n",
    "table.data[2, ::2] = [99, 99]\n",
    "\n",
    "# export to numpy or pandas\n",
    "# table.data.to_numpy()\n",
    "# table.to_dataframe()\n",
    "\n",
    "# the table.changed event emits a dict of information on any cell change\n",
    "# e.g. {'data': 'sdfg', 'row': 1, 'column': 0, 'column_header': '1', 'row_header': '1'}\n",
    "table.changed.connect(print)\n",
    "table.show(run=True)"
   ]
  },
  {
   "cell_type": "code",
   "execution_count": null,
   "metadata": {},
   "outputs": [],
   "source": []
  },
  {
   "cell_type": "code",
   "execution_count": null,
   "metadata": {},
   "outputs": [],
   "source": []
  }
 ],
 "metadata": {
  "kernelspec": {
   "display_name": "napari-van",
   "language": "python",
   "name": "napari-van"
  },
  "language_info": {
   "codemirror_mode": {
    "name": "ipython",
    "version": 3
   },
   "file_extension": ".py",
   "mimetype": "text/x-python",
   "name": "python",
   "nbconvert_exporter": "python",
   "pygments_lexer": "ipython3",
   "version": "3.9.18"
  }
 },
 "nbformat": 4,
 "nbformat_minor": 4
}
