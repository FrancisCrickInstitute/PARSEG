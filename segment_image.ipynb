{
 "cells": [
  {
   "cell_type": "markdown",
   "source": [
    "# CALM Template\n",
    "This is a simple example notebook that takes as input one single image and produces as output a thresholded version of that image.\n",
    "\n",
    "We begin by importing the necessary modules..."
   ],
   "metadata": {
    "collapsed": false
   },
   "id": "2388f1b7f7b2442f"
  },
  {
   "cell_type": "code",
   "execution_count": null,
   "outputs": [],
   "source": [
    "import matplotlib.pyplot as plt\n",
    "from skimage import io, filters\n",
    "from skimage.util import img_as_ubyte"
   ],
   "metadata": {
    "collapsed": false
   },
   "id": "initial_id"
  },
  {
   "cell_type": "markdown",
   "source": [
    "Now we define the paths to the input and output files: "
   ],
   "metadata": {
    "collapsed": false
   },
   "id": "ac06c6a877546b23"
  },
  {
   "cell_type": "code",
   "execution_count": null,
   "outputs": [],
   "source": [
    "input_path = './test_data/input/test_input.tif'  # Replace with the path to your TIF file\n",
    "output_path = './test_data/output/test_output.png'  # Replace with the path to where you want to save the PNG file"
   ],
   "metadata": {
    "collapsed": false
   },
   "id": "cefa95a0cc9f20b2"
  },
  {
   "cell_type": "markdown",
   "source": [
    "Next we read the input image using scikit-image:"
   ],
   "metadata": {
    "collapsed": false
   },
   "id": "1e70c69967e5c107"
  },
  {
   "cell_type": "code",
   "execution_count": null,
   "outputs": [],
   "source": [
    "image = io.imread(input_path, as_gray=True)"
   ],
   "metadata": {
    "collapsed": false
   },
   "id": "4d7ded140e387f05"
  },
  {
   "cell_type": "markdown",
   "source": [
    "We then calculate a grey-level threshold using Otsu's algorithm and generate a binary image:"
   ],
   "metadata": {
    "collapsed": false
   },
   "id": "e051f278d1ef4cb1"
  },
  {
   "cell_type": "code",
   "execution_count": null,
   "outputs": [],
   "source": [
    "threshold = filters.threshold_otsu(image)\n",
    "binary_image = image > threshold"
   ],
   "metadata": {
    "collapsed": false
   },
   "id": "3bfeee33d043516e"
  },
  {
   "cell_type": "markdown",
   "source": [
    "Now we display the original image alongside the binary image using matplotlib: "
   ],
   "metadata": {
    "collapsed": false
   },
   "id": "e8a10bb4c193f1a9"
  },
  {
   "cell_type": "code",
   "execution_count": null,
   "outputs": [],
   "source": [
    "# Display the original image\n",
    "plt.figure(figsize=(12, 6))\n",
    "\n",
    "plt.subplot(1, 2, 1)\n",
    "plt.title('Original Image')\n",
    "plt.imshow(image, cmap='gray')\n",
    "plt.axis('off')\n",
    "\n",
    "# Display the segmented image\n",
    "plt.subplot(1, 2, 2)\n",
    "plt.title('Segmented Image')\n",
    "plt.imshow(binary_image, cmap='gray')\n",
    "plt.axis('off')\n",
    "\n",
    "plt.show()"
   ],
   "metadata": {
    "collapsed": false
   },
   "id": "125f70f55eb5b3fe"
  },
  {
   "cell_type": "markdown",
   "source": [
    "Finally, we save the binary image as a PNG:"
   ],
   "metadata": {
    "collapsed": false
   },
   "id": "81eeb52f39d65d39"
  },
  {
   "cell_type": "code",
   "execution_count": null,
   "outputs": [],
   "source": [
    "io.imsave(output_path, img_as_ubyte(binary_image))"
   ],
   "metadata": {
    "collapsed": false
   },
   "id": "d9b8753e487343f4"
  }
 ],
 "metadata": {
  "kernelspec": {
   "display_name": "Python 3",
   "language": "python",
   "name": "python3"
  },
  "language_info": {
   "codemirror_mode": {
    "name": "ipython",
    "version": 2
   },
   "file_extension": ".py",
   "mimetype": "text/x-python",
   "name": "python",
   "nbconvert_exporter": "python",
   "pygments_lexer": "ipython2",
   "version": "2.7.6"
  }
 },
 "nbformat": 4,
 "nbformat_minor": 5
}
